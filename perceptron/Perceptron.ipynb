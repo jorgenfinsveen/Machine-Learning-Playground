{
 "cells": [
  {
   "attachments": {},
   "cell_type": "markdown",
   "metadata": {},
   "source": [
    "# Deep-learning with Perceptron\n",
    "--------"
   ]
  },
  {
   "attachments": {},
   "cell_type": "markdown",
   "metadata": {},
   "source": [
    "<b>A Perceptron is the basic unit of an artificial neuron.</b><br>\n",
    "Once it is trained, it is capable of classifying data into two categories:\n",
    "* Positive class: 1\n",
    "* Negative class: -1\n",
    "It is therefore capable of performing binary classification tasks like yes/no, true/false, a/b.<br>\n",
    "The decision function for the Perceptron can be defined as a linear combination of certain input values and their corresponding weight values.\n",
    "\n",
    "<br>\n",
    "\n",
    "<b>The learning process of a Perceptron can be described as two steps</b>:\n",
    "* Initializing the weights to 0 or small random numbers\n",
    "* For each traning sample (or exercise):\n",
    "  * Compute the output value\n",
    "  * Adjust the weights \n",
    "  * Repeat the process until a proper coverage is obtained\n",
    "\n",
    "<br>\n",
    "\n",
    "<b>When using a Perceptron to predict the class of data, the following activation functions are relevant</b>:\n",
    "* Step function:\n",
    "  * If x < t: y = 0\n",
    "  * If x >= t: y = 1\n",
    "* Sign function:\n",
    "  * If x < 0: y = -1\n",
    "  * If x >= 0: y = 1\n",
    "* Sigmoid function:\n",
    "  * Non-linear function allowing y to be a number between 0 and 1\n",
    "Our implementation will use the Sign function"
   ]
  },
  {
   "attachments": {},
   "cell_type": "markdown",
   "metadata": {},
   "source": [
    "## Perceptron implementation"
   ]
  },
  {
   "attachments": {},
   "cell_type": "markdown",
   "metadata": {},
   "source": [
    "Implements the Perceptron as a class with the following properties:\n",
    "* Fields:\n",
    "  * public int epochs\n",
    "  * public float learning_rate\n",
    "  * public float[] weights\n",
    "  * public float[] training_error\n",
    "* Methods:\n",
    "  * --init--(self, no_of_inputs, epochs, learning_rate) - The constructor\n",
    "  * predict(self, inputs) - The prediction algorithm\n",
    "  * train(self, training_inputs, training_labels) - The training algorithm"
   ]
  },
  {
   "cell_type": "code",
   "execution_count": 1,
   "metadata": {},
   "outputs": [],
   "source": [
    "import numpy as np\n",
    "import pandas as pd\n",
    "import matplotlib.pyplot as plt\n",
    "\n",
    "class Perceptron(object):\n",
    "\n",
    "    def __init__(self, no_of_inputs, epochs=100, learning_rate=0.01):\n",
    "        self.epochs = epochs\n",
    "        self.learning_rate = learning_rate\n",
    "        self.weights = np.zeros(no_of_inputs + 1)\n",
    "        self.training_error = []\n",
    "    \n",
    "    def predict(self, inputs):\n",
    "        net = np.dot(inputs, self.weights[1:]) + self.weights[0]\n",
    "        return 1 if net >= 0 else -1\n",
    "    \n",
    "    def train(self, training_inputs, training_labels):\n",
    "        for _ in range(self.epochs):\n",
    "            error = 0\n",
    "            for inputs, label in zip(training_inputs, training_labels):\n",
    "                prediction = self.predict(inputs) \n",
    "                self.weights[1:] += self.learning_rate * (label - prediction) * inputs\n",
    "                self.weights[0]  += self.learning_rate * (label - prediction)\n",
    "                error += label - prediction\n",
    "            self.training_error.append(error.mean())\n"
   ]
  },
  {
   "attachments": {},
   "cell_type": "markdown",
   "metadata": {},
   "source": [
    "## Testing ML-model with IRIS data"
   ]
  },
  {
   "attachments": {},
   "cell_type": "markdown",
   "metadata": {},
   "source": [
    "### Read dataset"
   ]
  },
  {
   "attachments": {},
   "cell_type": "markdown",
   "metadata": {},
   "source": [
    "Reading a dataset containing the petal length and sepal length of flowers and their corresponding label.<br>\n",
    "The last rows of the dataset is printed to the console."
   ]
  },
  {
   "cell_type": "code",
   "execution_count": 2,
   "metadata": {},
   "outputs": [
    {
     "name": "stdout",
     "output_type": "stream",
     "text": [
      "       0    1    2    3               4\n",
      "145  6.7  3.0  5.2  2.3  Iris-virginica\n",
      "146  6.3  2.5  5.0  1.9  Iris-virginica\n",
      "147  6.5  3.0  5.2  2.0  Iris-virginica\n",
      "148  6.2  3.4  5.4  2.3  Iris-virginica\n",
      "149  5.9  3.0  5.1  1.8  Iris-virginica\n"
     ]
    }
   ],
   "source": [
    "df = pd.read_csv('https://archive.ics.uci.edu/ml/machine-learning-databases/iris/iris.data', header=None)\n",
    "print(df.tail())"
   ]
  },
  {
   "attachments": {},
   "cell_type": "markdown",
   "metadata": {},
   "source": [
    "### Specify dimensions"
   ]
  },
  {
   "attachments": {},
   "cell_type": "markdown",
   "metadata": {},
   "source": [
    "<strong>X-axis</strong>:\n",
    "* The values in the x-dimension is represented as a 2-dimensional matrix\n",
    "* The format is as follows:\n",
    "  * Rows: 100\n",
    "  * Columns: 2\n",
    "* The matrix is a cropped version of the original dataset containing all values for column 0 and 1\n",
    "\n",
    "<strong>Y-axis</strong>:\n",
    "* The values in the y-dimension are represented as a 1-dimensional column-vector\n",
    "* It contains all labels for each row of the dataset, which is located at column 4\n",
    "* The values in this column are either <i>Iris-setosa</i> or <i>Iris-virginica</i>\n",
    "* The values contained in the y-axis are converted through the following transformation:\n",
    "  * <i>Iris-setosa</i> &rarr; 1\n",
    "  * <i>Iris-virginica</i> &rarr; -1\n",
    "* The Y-axis represents the labels which are used for training the model"
   ]
  },
  {
   "cell_type": "code",
   "execution_count": 11,
   "metadata": {},
   "outputs": [
    {
     "name": "stdout",
     "output_type": "stream",
     "text": [
      "[ 1  1  1  1  1  1  1  1  1  1  1  1  1  1  1  1  1  1  1  1  1  1  1  1\n",
      "  1  1  1  1  1  1  1  1  1  1  1  1  1  1  1  1  1  1  1  1  1  1  1  1\n",
      "  1  1 -1 -1 -1 -1 -1 -1 -1 -1 -1 -1 -1 -1 -1 -1 -1 -1 -1 -1 -1 -1 -1 -1\n",
      " -1 -1 -1 -1 -1 -1 -1 -1 -1 -1 -1 -1 -1 -1 -1 -1 -1 -1 -1 -1 -1 -1 -1 -1\n",
      " -1 -1 -1 -1]\n"
     ]
    }
   ],
   "source": [
    "x = df.iloc[0:100, [0,2]].values\n",
    "y = np.where(df.iloc[0:100, 4].values == 'Iris-setosa', 1, -1)\n",
    "print(y)"
   ]
  },
  {
   "attachments": {},
   "cell_type": "markdown",
   "metadata": {},
   "source": [
    "### Train model"
   ]
  },
  {
   "attachments": {},
   "cell_type": "markdown",
   "metadata": {},
   "source": [
    "An instance of the Percetron-class is created with the following properties:\n",
    "* Number of inputs: 2 \n",
    "  * X-axis representing the training data\n",
    "  * Y-axis representing the training labels\n",
    "* Number of epochs: 10\n",
    "  * The training-algorithm will go through the input 10 times, adjusting its weights for each value\n",
    "* Rate of learning: 0.1\n",
    "  * Percentage of adjustment for each weight during a training epoch\n",
    "\n",
    "\n",
    "The Perceptron is trained with the x-dimension and the y-dimension as parameters:\n",
    "* For each epoch, the training-algorithm will:\n",
    "  * Create a set of tuples where each tuple contains the training values and their corresponding label\n",
    "  * Increase the starting weight with the product of the learning rate and the difference between the correct answer and the prediction\n",
    "  * Increase the other weights with the product of the learning rate, the difference between the correct answer and the prediction, and the input values itself\n",
    "  * Log the error rate which is calculated as the mean of all differences between correct answers and model predictions\n",
    "\n",
    "\n",
    "The training error is plotted as a function of epochs:\n",
    "* X-axis: Epochs \n",
    "* y-axis: Error rate\n",
    "* The desired result is to observe that the error rate is closing in to zero\n",
    "\n",
    "\n",
    "The resulting weights after training is printed out:\n",
    "* The number of weights equals to the number of inputs for each \"exercise\" plus one\n",
    "* Each weight represents the values which when multiplied with the input-matrix gave the most accurate results\n"
   ]
  },
  {
   "cell_type": "code",
   "execution_count": 4,
   "metadata": {},
   "outputs": [
    {
     "data": {
      "image/png": "[encoded data removed]",
      "text/plain": [
       "<Figure size 432x288 with 1 Axes>"
      ]
     },
     "metadata": {
      "needs_background": "light"
     },
     "output_type": "display_data"
    },
    {
     "name": "stdout",
     "output_type": "stream",
     "text": [
      "[ 0.4   0.7  -1.84]\n"
     ]
    }
   ],
   "source": [
    "p = Perceptron(no_of_inputs=2, epochs=10, learning_rate=0.1)\n",
    "p.train(x, y)\n",
    "\n",
    "plt.plot(range(1, len(p.training_error) + 1), p.training_error, marker='o')\n",
    "plt.xlabel('Epochs')\n",
    "plt.ylabel('Error')\n",
    "plt.title('Training Error')\n",
    "plt.grid()\n",
    "plt.show()\n",
    "\n",
    "print(p.weights)"
   ]
  },
  {
   "attachments": {},
   "cell_type": "markdown",
   "metadata": {},
   "source": [
    "### Trained model prediction"
   ]
  },
  {
   "attachments": {},
   "cell_type": "markdown",
   "metadata": {},
   "source": [
    "The Perceptron predicts the label of each input in the x-axis:\n",
    "* Each row in the input-matrix is predicted\n",
    "* A separation-line is calculated using:\n",
    "  * X: Linear graph starting at the minimum value of the input matrix to the maximum value with an increase rate of 0.1\n",
    "  * Y: The difference between negative weight 1 divided by weight 2 multiplied with X, and weight 0 divided by weight 2\n",
    "\n",
    "\n",
    "The result of the prediction is plotted as a scatter plot:\n",
    "* The inputs with the setosa-label is plotted as red dots\n",
    "* The inputs with the versicolor-label is plotted as blue crosses\n",
    "* The separation line which is calculated through the result of the Perceptron's prediction is plotted as a line"
   ]
  },
  {
   "cell_type": "code",
   "execution_count": 5,
   "metadata": {},
   "outputs": [
    {
     "data": {
      "image/png": "[encoded data removed]",
      "text/plain": [
       "<Figure size 432x288 with 1 Axes>"
      ]
     },
     "metadata": {
      "needs_background": "light"
     },
     "output_type": "display_data"
    }
   ],
   "source": [
    "pred = []\n",
    "for t in x:\n",
    "    pred.append(p.predict(t))\n",
    "\n",
    "x1_min = x[:, 0].min() - 1\n",
    "x1_max = x[:, 0].max() + 1\n",
    "xx1 = np.arange(x1_min, x1_max, 0.1)\n",
    "xx2 = -1 * p.weights[1]/p.weights[2] * xx1 - p.weights[0]/p.weights[2]\n",
    "\n",
    "plt.scatter(x[0:50,   0], x[0:50,   1], color='red',  marker='o', label='setosa')\n",
    "plt.scatter(x[50:100, 0], x[50:100, 1], color='blue', marker='x', label='versicolor')\n",
    "plt.plot(xx1, xx2, 'g--')\n",
    "plt.xlabel('Sepal length [cm]')\n",
    "plt.ylabel('Petal length [cm]')\n",
    "plt.legend(loc='upper left')\n",
    "plt.grid()\n",
    "plt.show()"
   ]
  },
  {
   "attachments": {},
   "cell_type": "markdown",
   "metadata": {},
   "source": [
    "### Error rate"
   ]
  },
  {
   "attachments": {},
   "cell_type": "markdown",
   "metadata": {},
   "source": [
    "Finally, one can determine the error-rate of the trained model by subtracting each predicted value from the actual value and divide it by the number of values (average calculation)"
   ]
  },
  {
   "cell_type": "code",
   "execution_count": 6,
   "metadata": {},
   "outputs": [
    {
     "name": "stdout",
     "output_type": "stream",
     "text": [
      "0.0\n"
     ]
    }
   ],
   "source": [
    "error = sum(y - pred)/len(y)\n",
    "print(error)"
   ]
  },
  {
   "attachments": {},
   "cell_type": "markdown",
   "metadata": {},
   "source": [
    "## Saving and loading a model from file"
   ]
  },
  {
   "attachments": {},
   "cell_type": "markdown",
   "metadata": {},
   "source": [
    "### Saving a model"
   ]
  },
  {
   "cell_type": "code",
   "execution_count": 7,
   "metadata": {},
   "outputs": [],
   "source": [
    "import h5py\n",
    "\n",
    "h5f = h5py.File('perceptron_trained_model_16_02_22.h5', 'w')\n",
    "h5f.create_dataset('dataset_1', data=p.weights)\n",
    "h5f.close()"
   ]
  },
  {
   "attachments": {},
   "cell_type": "markdown",
   "metadata": {},
   "source": [
    "### Loading a model"
   ]
  },
  {
   "cell_type": "code",
   "execution_count": 9,
   "metadata": {},
   "outputs": [
    {
     "name": "stdout",
     "output_type": "stream",
     "text": [
      "0.4\n",
      "0.6999999999999997\n",
      "-1.84\n"
     ]
    }
   ],
   "source": [
    "h5f = h5py.File('perceptron_trained_model_16_02_22.h5', 'r')\n",
    "dataset = h5f['dataset_1'][:]\n",
    "for data in dataset:\n",
    "    print(data)\n",
    "h5f.close()"
   ]
  },
  {
   "attachments": {},
   "cell_type": "markdown",
   "metadata": {},
   "source": [
    "## Notes\n",
    "\n",
    "<br><br>\n",
    "<img src='Perceptron.jpg' alt='Perceptron' height=1000px>"
   ]
  }
 ],
 "metadata": {
  "kernelspec": {
   "display_name": "Python 3",
   "language": "python",
   "name": "python3"
  },
  "language_info": {
   "codemirror_mode": {
    "name": "ipython",
    "version": 3
   },
   "file_extension": ".py",
   "mimetype": "text/x-python",
   "name": "python",
   "nbconvert_exporter": "python",
   "pygments_lexer": "ipython3",
   "version": "3.10.4"
  },
  "orig_nbformat": 4,
  "vscode": {
   "interpreter": {
    "hash": "aee8b7b246df8f9039afb4144a1f6fd8d2ca17a180786b69acc140d282b71a49"
   }
  }
 },
 "nbformat": 4,
 "nbformat_minor": 2
}
